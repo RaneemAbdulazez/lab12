{
 "cells": [
  {
   "cell_type": "markdown",
   "id": "fc5461cc-341e-4f4e-90a8-ad1ac60784c1",
   "metadata": {},
   "source": [
    "# bike-stats\n",
    "# Data set: bikes data set\n",
    "# Author : Raneem ,,,,,,\n",
    "# Date : 25/5/2021"
   ]
  },
  {
   "cell_type": "markdown",
   "id": "e1ee3ab6-c06c-4074-9a29-de6aad5be837",
   "metadata": {},
   "source": []
  },
  {
   "cell_type": "code",
   "execution_count": 1,
   "id": "275c5b3c-89f4-48c4-ac76-13cc25ffd757",
   "metadata": {},
   "outputs": [],
   "source": [
    "import pandas as pd\n",
    "import datetime as datetime\n"
   ]
  },
  {
   "cell_type": "code",
   "execution_count": 2,
   "id": "2b92daa1-f4bf-495b-82ff-0cae031c5ba1",
   "metadata": {},
   "outputs": [
    {
     "name": "stderr",
     "output_type": "stream",
     "text": [
      "b'Skipping line 50794: expected 12 fields, saw 20\\n'\n"
     ]
    },
    {
     "name": "stdout",
     "output_type": "stream",
     "text": [
      "<class 'pandas.core.frame.DataFrame'>\n",
      "RangeIndex: 286857 entries, 0 to 286856\n",
      "Data columns (total 12 columns):\n",
      " #   Column             Non-Null Count   Dtype  \n",
      "---  ------             --------------   -----  \n",
      " 0   trip_id            286857 non-null  int64  \n",
      " 1   starttime          286857 non-null  object \n",
      " 2   stoptime           286857 non-null  object \n",
      " 3   bikeid             286857 non-null  object \n",
      " 4   tripduration       286857 non-null  float64\n",
      " 5   from_station_name  286857 non-null  object \n",
      " 6   to_station_name    286857 non-null  object \n",
      " 7   from_station_id    286857 non-null  object \n",
      " 8   to_station_id      286857 non-null  object \n",
      " 9   usertype           286857 non-null  object \n",
      " 10  gender             181557 non-null  object \n",
      " 11  birthyear          181553 non-null  float64\n",
      "dtypes: float64(2), int64(1), object(9)\n",
      "memory usage: 26.3+ MB\n"
     ]
    }
   ],
   "source": [
    "df_trip=pd.read_csv('./trip.csv',error_bad_lines=False)\n",
    "df_trip.info()"
   ]
  },
  {
   "cell_type": "markdown",
   "id": "e1557e09-7cce-47a7-83fa-08373ff448cf",
   "metadata": {},
   "source": [
    "# What is the average trip duration for a borrowed bicycle?\n"
   ]
  },
  {
   "cell_type": "code",
   "execution_count": 3,
   "id": "6ed73bb6-2345-48fb-9882-2082fc675290",
   "metadata": {},
   "outputs": [
    {
     "data": {
      "text/plain": [
       "1178.2956753399776"
      ]
     },
     "execution_count": 3,
     "metadata": {},
     "output_type": "execute_result"
    }
   ],
   "source": [
    "avg_trip=df_trip[\"tripduration\"].mean()\n",
    "avg_trip"
   ]
  },
  {
   "cell_type": "markdown",
   "id": "031e2239-4c54-46c3-8b12-7c76ae3c06bd",
   "metadata": {},
   "source": [
    "# What’s the most common age of a bicycle-sharer?\n"
   ]
  },
  {
   "cell_type": "code",
   "execution_count": 4,
   "id": "f07afa17-5382-4c37-a438-bf5529c4282c",
   "metadata": {},
   "outputs": [
    {
     "data": {
      "text/plain": [
       "0    34.0\n",
       "dtype: float64"
      ]
     },
     "execution_count": 4,
     "metadata": {},
     "output_type": "execute_result"
    }
   ],
   "source": [
    "common_age=df_trip[\"birthyear\"].mode()\n",
    "datetime.datetime.now().year-common_age"
   ]
  },
  {
   "cell_type": "markdown",
   "id": "57f01fac-25e0-4f6a-b8a5-37c7bc82d884",
   "metadata": {},
   "source": [
    "# Given all the weather data here, find the average precipitation per month, and the median precipitation."
   ]
  },
  {
   "cell_type": "code",
   "execution_count": 5,
   "id": "52c72cde-f942-43a5-8c85-5474d800c244",
   "metadata": {},
   "outputs": [
    {
     "name": "stdout",
     "output_type": "stream",
     "text": [
      "<class 'pandas.core.frame.DataFrame'>\n",
      "RangeIndex: 689 entries, 0 to 688\n",
      "Data columns (total 21 columns):\n",
      " #   Column                      Non-Null Count  Dtype         \n",
      "---  ------                      --------------  -----         \n",
      " 0   Date                        689 non-null    datetime64[ns]\n",
      " 1   Max_Temperature_F           689 non-null    int64         \n",
      " 2   Mean_Temperature_F          688 non-null    float64       \n",
      " 3   Min_TemperatureF            689 non-null    int64         \n",
      " 4   Max_Dew_Point_F             689 non-null    int64         \n",
      " 5   MeanDew_Point_F             689 non-null    int64         \n",
      " 6   Min_Dewpoint_F              689 non-null    int64         \n",
      " 7   Max_Humidity                689 non-null    int64         \n",
      " 8   Mean_Humidity               689 non-null    int64         \n",
      " 9   Min_Humidity                689 non-null    int64         \n",
      " 10  Max_Sea_Level_Pressure_In   689 non-null    float64       \n",
      " 11  Mean_Sea_Level_Pressure_In  689 non-null    float64       \n",
      " 12  Min_Sea_Level_Pressure_In   689 non-null    float64       \n",
      " 13  Max_Visibility_Miles        689 non-null    int64         \n",
      " 14  Mean_Visibility_Miles       689 non-null    int64         \n",
      " 15  Min_Visibility_Miles        689 non-null    int64         \n",
      " 16  Max_Wind_Speed_MPH          689 non-null    int64         \n",
      " 17  Mean_Wind_Speed_MPH         689 non-null    int64         \n",
      " 18  Max_Gust_Speed_MPH          504 non-null    object        \n",
      " 19  Precipitation_In            689 non-null    float64       \n",
      " 20  Events                      328 non-null    object        \n",
      "dtypes: datetime64[ns](1), float64(5), int64(13), object(2)\n",
      "memory usage: 113.2+ KB\n"
     ]
    }
   ],
   "source": [
    "weather_data=pd.read_csv('./weather.csv',parse_dates=[\"Date\"])\n",
    "weather_data.info()"
   ]
  },
  {
   "cell_type": "code",
   "execution_count": 6,
   "id": "c0014015-afc8-4829-9e0e-ab913339d030",
   "metadata": {},
   "outputs": [
    {
     "data": {
      "text/plain": [
       "0      10\n",
       "1      10\n",
       "2      10\n",
       "3      10\n",
       "4      10\n",
       "       ..\n",
       "684     8\n",
       "685     8\n",
       "686     8\n",
       "687     8\n",
       "688     8\n",
       "Name: month, Length: 689, dtype: int64"
      ]
     },
     "execution_count": 6,
     "metadata": {},
     "output_type": "execute_result"
    }
   ],
   "source": [
    "# from datetime import datetime\n",
    "date=weather_data[\"Date\"]\n",
    "weather_data['month'] = pd.DatetimeIndex(date).month\n",
    "weather_data['month'] \n"
   ]
  },
  {
   "cell_type": "code",
   "execution_count": 7,
   "id": "06e652a5-c745-4e0b-a896-e8658bba9c92",
   "metadata": {},
   "outputs": [
    {
     "data": {
      "text/plain": [
       "month\n",
       "1     0.143548\n",
       "2     0.168421\n",
       "3     0.156935\n",
       "4     0.051333\n",
       "5     0.012419\n",
       "6     0.030500\n",
       "7     0.012097\n",
       "8     0.018226\n",
       "9     0.041000\n",
       "10    0.189000\n",
       "11    0.187833\n",
       "12    0.236290\n",
       "Name: Precipitation_In, dtype: float64"
      ]
     },
     "execution_count": 7,
     "metadata": {},
     "output_type": "execute_result"
    }
   ],
   "source": [
    "# find the average precipitation per month\n",
    "weather=weather_data.groupby('month')['Precipitation_In']\n",
    "weather_avg=weather.mean()\n",
    "weather_avg 0.143548"
   ]
  },
  {
   "cell_type": "markdown",
   "id": "ee36639f-566b-46e6-8d71-9f80a5f70695",
   "metadata": {},
   "source": [
    "# the median precipitation.\n",
    "weather.median()"
   ]
  },
  {
   "cell_type": "code",
   "execution_count": 16,
   "id": "7f5c6175-a32e-418f-92b3-d2e84d43f918",
   "metadata": {},
   "outputs": [
    {
     "data": {
      "text/plain": [
       "17.586206896551722"
      ]
     },
     "execution_count": 16,
     "metadata": {},
     "output_type": "execute_result"
    }
   ],
   "source": [
    "# What’s the average number of bikes at a given bike station?\n",
    "df_station=pd.read_csv('./station.csv')\n",
    "median_pr=df_station[\"install_dockcount\"].mean()\n",
    "median_pr\n"
   ]
  },
  {
   "cell_type": "code",
   "execution_count": 9,
   "id": "0d03600c-80d6-468c-a9ea-a1aaaaa9b9c7",
   "metadata": {},
   "outputs": [],
   "source": [
    "# When a bike station is modified, is it more likely that it’ll lose bikes or gain bikes? How do you know?"
   ]
  },
  {
   "cell_type": "code",
   "execution_count": 10,
   "id": "dcbaf7ea-c2d6-46cc-b029-a9d2d077a46a",
   "metadata": {},
   "outputs": [
    {
     "data": {
      "text/plain": [
       "-722"
      ]
     },
     "execution_count": 10,
     "metadata": {},
     "output_type": "execute_result"
    }
   ],
   "source": [
    "# df=pd.read_csv('./station.csv')\n",
    "# df[\"install_dockcount\"].mean()\n",
    "x=df_station[[\"modification_date\",\"install_dockcount\"]].dropna()\n",
    "y=x[\"install_dockcount\"].sum()- df_station[\"install_dockcount\"].sum()\n",
    "y\n",
    "# it gonna lose bikes , they deminish into 4 only "
   ]
  },
  {
   "cell_type": "markdown",
   "id": "67ad03ed-af61-4ee6-987a-d85eb6edb8af",
   "metadata": {},
   "source": [
    "# Come up with 3 more questions that can be answered with this data set.\n",
    "\n"
   ]
  },
  {
   "cell_type": "markdown",
   "id": "ebbf3441-b151-424a-bdb6-99578252a6c8",
   "metadata": {},
   "source": [
    "# calculate the avarage duration for taking a bike based on gender \n"
   ]
  },
  {
   "cell_type": "code",
   "execution_count": 11,
   "id": "1193c4c4-5a42-4156-be51-6d0e2c9d3068",
   "metadata": {},
   "outputs": [
    {
     "data": {
      "text/plain": [
       "gender\n",
       "Female    706.723239\n",
       "Male      564.880833\n",
       "Other     613.347563\n",
       "Name: tripduration, dtype: float64"
      ]
     },
     "execution_count": 11,
     "metadata": {},
     "output_type": "execute_result"
    }
   ],
   "source": [
    "# df=pd.read_csv('./trip.csv',error_bad_lines=False)\n",
    "\n",
    "df_trip1=df_trip[[\"tripduration\",\"gender\"]].dropna()\n",
    "df_trip1.groupby(\"gender\")['tripduration'].mean()"
   ]
  },
  {
   "cell_type": "markdown",
   "id": "229d6bb9-7c9a-4148-8f73-7bf4d5839118",
   "metadata": {},
   "source": [
    "# Maximuim temptreture in every year"
   ]
  },
  {
   "cell_type": "code",
   "execution_count": 12,
   "id": "d5ff55f4-352b-4fac-a888-d1b2f28c8bcf",
   "metadata": {},
   "outputs": [
    {
     "data": {
      "text/plain": [
       "Year\n",
       "2014    73\n",
       "2015    98\n",
       "2016    95\n",
       "Name: Max_Temperature_F, dtype: int64"
      ]
     },
     "execution_count": 12,
     "metadata": {},
     "output_type": "execute_result"
    }
   ],
   "source": [
    "# weather_data=pd.read_csv('./weather.csv',parse_dates=[\"Date\"])\n",
    "weather_data['Year'] = pd.DatetimeIndex(date).year\n",
    "weather_data.groupby(\"Year\")[\"Max_Temperature_F\"].max()\n",
    "Max_temp=weather_data.groupby(\"Year\")[\"Max_Temperature_F\"].max()\n",
    "Max_temp"
   ]
  },
  {
   "cell_type": "markdown",
   "id": "5e696747-6850-47af-92b3-14f3ab64ec8b",
   "metadata": {},
   "source": [
    "# Highest trip duration based on birthday year and gender"
   ]
  },
  {
   "cell_type": "code",
   "execution_count": 15,
   "id": "fb598174-cc1d-497c-9bdf-1b2fa02bef24",
   "metadata": {},
   "outputs": [
    {
     "data": {
      "text/plain": [
       "birthyear  gender\n",
       "1931.0     Female    1817.524\n",
       "1936.0     Male      1530.681\n",
       "1939.0     Male      6482.742\n",
       "1942.0     Male       622.731\n",
       "1943.0     Male      1686.795\n",
       "                       ...   \n",
       "1997.0     Male      4170.919\n",
       "1998.0     Female    2251.862\n",
       "           Male      4745.422\n",
       "1999.0     Female    1537.079\n",
       "           Other      655.493\n",
       "Name: tripduration, Length: 135, dtype: float64"
      ]
     },
     "execution_count": 15,
     "metadata": {},
     "output_type": "execute_result"
    }
   ],
   "source": [
    "# df=pd.read_csv('./trip.csv',error_bad_lines=False)\n",
    "# df\n",
    "df_trip2=df_trip[[\"tripduration\",\"birthyear\",\"gender\"]].dropna()\n",
    "highest_d=df_trip2.groupby([\"birthyear\",\"gender\"])['tripduration'].max()\n",
    "highest_d"
   ]
  },
  {
   "cell_type": "code",
   "execution_count": 17,
   "id": "9b67ef01-1efe-414a-8c66-976d921f8a5b",
   "metadata": {},
   "outputs": [
    {
     "name": "stdout",
     "output_type": "stream",
     "text": [
      "Success!!!\n"
     ]
    }
   ],
   "source": [
    "def test():\n",
    "\n",
    "    def assert_equal(actual,expected):\n",
    "        assert actual == expected, f\"Expected {expected} but got {actual}\"\n",
    "\n",
    "    assert_equal(avg_trip, 1178.2956753399776)\n",
    "    assert_equal(y, -722)\n",
    "    assert_equal(median_pr, 17.586206896551722)\n",
    "    assert_equal(top_twenty_highest_grossing_games.at[0].Name, None)\n",
    "    assert_equal(top_twenty_highest_grossing_games.iloc[19].Name, None)\n",
    "    assert_equal(na_median_sales, None)\n",
    "    assert_equal(ten_median_na_seller_names, None)\n",
    "\n",
    "    print(\"Success!!!\")\n",
    "\n",
    "test()"
   ]
  },
  {
   "cell_type": "code",
   "execution_count": null,
   "id": "e1d54d07-87ec-46f0-bea1-4ee003f39498",
   "metadata": {},
   "outputs": [],
   "source": []
  }
 ],
 "metadata": {
  "kernelspec": {
   "display_name": "Python 3",
   "language": "python",
   "name": "python3"
  },
  "language_info": {
   "codemirror_mode": {
    "name": "ipython",
    "version": 3
   },
   "file_extension": ".py",
   "mimetype": "text/x-python",
   "name": "python",
   "nbconvert_exporter": "python",
   "pygments_lexer": "ipython3",
   "version": "3.9.4"
  }
 },
 "nbformat": 4,
 "nbformat_minor": 5
}
